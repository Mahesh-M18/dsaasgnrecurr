{
 "cells": [
  {
   "cell_type": "code",
   "execution_count": 1,
   "id": "435fd64e-81f0-4ee4-b97d-3c1f982ec8a0",
   "metadata": {},
   "outputs": [],
   "source": [
    "#1 Find the val%e of T(2) for the rec%rrence relation T(n) = 3T(n-1) + 12n, given that T(0)=5."
   ]
  },
  {
   "cell_type": "markdown",
   "id": "2c54b838-7758-43da-b22b-9f60e27e2200",
   "metadata": {},
   "source": [
    "Given that\n",
    "\n",
    "T(n)=3T(n−1)+12n\n",
    "T(0)=5\n",
    "\n",
    "\n",
    "Let's find \n",
    "T(1):\n",
    "T(1)=3T(0)+12(1)\n",
    "T(1)=3(5)+12\n",
    "T(1)=15+12\n",
    "T(1)=27\n",
    "\n",
    "Now, let's find \n",
    "T(2):\n",
    "T(2)=3T(1)+12(2)\n",
    "T(2)=3(27)+24\n",
    "T(2)=81+24\n",
    "T(2)=105"
   ]
  },
  {
   "cell_type": "code",
   "execution_count": null,
   "id": "a33d6cbb-c1ce-4732-95ab-377b3cc53ca6",
   "metadata": {},
   "outputs": [],
   "source": [
    "#2. Given a recurrence relation, solve it using the substitution method:\n",
    "#a. T(n) = T(n-1) + c\n",
    "#b. T(n) = 2T(n/2) + n\n",
    "#c. T(n) = 2T(n/2) + c\n",
    "#d. T(n) = T(n/2) + c"
   ]
  },
  {
   "cell_type": "code",
   "execution_count": null,
   "id": "79f4d326-89cb-49c8-842c-7ee7d50f0664",
   "metadata": {},
   "outputs": [],
   "source": [
    "#2a \n",
    "Solution= T(n) = T(n-k) + kc"
   ]
  },
  {
   "cell_type": "code",
   "execution_count": null,
   "id": "8a58801d-9a07-42a3-b228-bdde1d7719de",
   "metadata": {},
   "outputs": [],
   "source": [
    "#2b\n",
    "Solution= T(n) = 2^k(T(n/(2^k))) + kn"
   ]
  },
  {
   "cell_type": "code",
   "execution_count": null,
   "id": "fb776f23-1343-469a-8a91-50a58d443957",
   "metadata": {},
   "outputs": [],
   "source": [
    "#2c\n",
    "Solution= T(n) = 2^k(T(n/(2^k))) + C((2^k)-1)"
   ]
  },
  {
   "cell_type": "code",
   "execution_count": null,
   "id": "462d9e36-16a8-4230-8e67-59ee77ed1da6",
   "metadata": {},
   "outputs": [],
   "source": [
    "#2d\n",
    "Solution= T(n) = T(n/(2^k)) + kc"
   ]
  },
  {
   "cell_type": "code",
   "execution_count": null,
   "id": "28f183de-193f-4978-b2dc-2bd0e00127b6",
   "metadata": {},
   "outputs": [],
   "source": [
    "#3. Given a recurrence relation, solve it using the recursive tree approach:\n",
    "#a. T(n) = 2T(n-1) +1\n",
    "#b. T(n) = 2T(n/2) + n"
   ]
  },
  {
   "cell_type": "code",
   "execution_count": null,
   "id": "11cd7950-a033-4ba2-b14d-621e81bf7c31",
   "metadata": {},
   "outputs": [],
   "source": [
    "#3a \n",
    "Solution= T(n) = 2T(n-k) + 1(2^k - 1)"
   ]
  },
  {
   "cell_type": "code",
   "execution_count": null,
   "id": "6f336b8c-8aab-41e8-bf75-49a97c0d605d",
   "metadata": {},
   "outputs": [],
   "source": [
    "            T(n)\n",
    "          /      \\\n",
    "         /        \\\n",
    "    T(n-1)       T(n-1)\n",
    "     / \\           / \\\n",
    "T(n-2) T(n-2) T(n-2) T(n-2)\n",
    "\n",
    "Each branch has cost of added 1"
   ]
  },
  {
   "cell_type": "code",
   "execution_count": null,
   "id": "67e26711-4630-4e7c-ba3d-e0c36d17b553",
   "metadata": {},
   "outputs": [],
   "source": [
    "#3b\n",
    "Solution= T(n) = 2T(n/(2^k)) + n(2^k - 1)"
   ]
  },
  {
   "cell_type": "code",
   "execution_count": null,
   "id": "6c08e861-1bcd-48c8-adac-b561cafbcd48",
   "metadata": {},
   "outputs": [],
   "source": [
    "          T(n)\n",
    "        /      \\\n",
    "       /        \\\n",
    "    T(n/2)       T(n/2)\n",
    "     / \\           / \\\n",
    " T(n/4) T(n/4) T(n/4) T(n/4)\n",
    "\n",
    "Each branch has a cost of added n"
   ]
  }
 ],
 "metadata": {
  "kernelspec": {
   "display_name": "Python 3 (ipykernel)",
   "language": "python",
   "name": "python3"
  },
  "language_info": {
   "codemirror_mode": {
    "name": "ipython",
    "version": 3
   },
   "file_extension": ".py",
   "mimetype": "text/x-python",
   "name": "python",
   "nbconvert_exporter": "python",
   "pygments_lexer": "ipython3",
   "version": "3.10.8"
  }
 },
 "nbformat": 4,
 "nbformat_minor": 5
}
